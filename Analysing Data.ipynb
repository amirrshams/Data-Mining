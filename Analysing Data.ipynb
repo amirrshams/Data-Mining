{
 "cells": [
  {
   "cell_type": "code",
   "execution_count": 363,
   "metadata": {},
   "outputs": [],
   "source": [
    "import pandas as pd\n",
    "import numpy as np\n",
    "import matplotlib.pyplot as plt\n",
    "import seaborn as seabornInstance \n",
    "from sklearn.model_selection import train_test_split \n",
    "from sklearn.linear_model import LinearRegression\n",
    "from sklearn import metrics\n",
    "%matplotlib inline\n"
   ]
  },
  {
   "cell_type": "code",
   "execution_count": 193,
   "metadata": {},
   "outputs": [],
   "source": [
    "atData = pd.read_csv('Atlassian Marketplace Crawler modified.csv')\n",
    "atData.drop('Unnamed: 0', inplace=True, axis=1)\n",
    "atData.drop('Unnamed: 0.1', inplace=True, axis=1)\n"
   ]
  },
  {
   "cell_type": "code",
   "execution_count": 176,
   "metadata": {},
   "outputs": [
    {
     "data": {
      "text/plain": [
       "997"
      ]
     },
     "execution_count": 176,
     "metadata": {},
     "output_type": "execute_result"
    }
   ],
   "source": [
    "len(atData)"
   ]
  },
  {
   "cell_type": "code",
   "execution_count": 205,
   "metadata": {},
   "outputs": [
    {
     "data": {
      "text/plain": [
       "(997, 5)"
      ]
     },
     "execution_count": 205,
     "metadata": {},
     "output_type": "execute_result"
    }
   ],
   "source": [
    "atData.shape"
   ]
  },
  {
   "cell_type": "code",
   "execution_count": 194,
   "metadata": {},
   "outputs": [
    {
     "data": {
      "text/html": [
       "<div>\n",
       "<style scoped>\n",
       "    .dataframe tbody tr th:only-of-type {\n",
       "        vertical-align: middle;\n",
       "    }\n",
       "\n",
       "    .dataframe tbody tr th {\n",
       "        vertical-align: top;\n",
       "    }\n",
       "\n",
       "    .dataframe thead th {\n",
       "        text-align: right;\n",
       "    }\n",
       "</style>\n",
       "<table border=\"1\" class=\"dataframe\">\n",
       "  <thead>\n",
       "    <tr style=\"text-align: right;\">\n",
       "      <th></th>\n",
       "      <th>Name</th>\n",
       "      <th>Vendor</th>\n",
       "      <th>No of Installs</th>\n",
       "      <th>Price of Cloud Version</th>\n",
       "      <th>Price of Server Version</th>\n",
       "      <th>Price of Data Center Version</th>\n",
       "      <th>No of Ratings</th>\n",
       "      <th>Categories</th>\n",
       "    </tr>\n",
       "  </thead>\n",
       "  <tbody>\n",
       "    <tr>\n",
       "      <th>0</th>\n",
       "      <td>Gliffy Diagrams for Confluence</td>\n",
       "      <td>Gliffy</td>\n",
       "      <td>20124</td>\n",
       "      <td>10.0</td>\n",
       "      <td>10</td>\n",
       "      <td>6250</td>\n",
       "      <td>744</td>\n",
       "      <td>Blueprints,Charts &amp; diagramming,Design tools,M...</td>\n",
       "    </tr>\n",
       "    <tr>\n",
       "      <th>1</th>\n",
       "      <td>Jira Misc Workflow Extensions (JMWE)</td>\n",
       "      <td>Innovalog Atlassian Apps (an Appfire company)</td>\n",
       "      <td>17483</td>\n",
       "      <td>5.0</td>\n",
       "      <td>10</td>\n",
       "      <td>201</td>\n",
       "      <td>281</td>\n",
       "      <td>Admin tools,IT &amp; helpdesk,Project management,W...</td>\n",
       "    </tr>\n",
       "    <tr>\n",
       "      <th>2</th>\n",
       "      <td>Xray Test Management for Jira</td>\n",
       "      <td>Xblend</td>\n",
       "      <td>16566</td>\n",
       "      <td>10.0</td>\n",
       "      <td>10</td>\n",
       "      <td>1250</td>\n",
       "      <td>314</td>\n",
       "      <td>Custom fields,Dashboard gadgets,Testing &amp; QA</td>\n",
       "    </tr>\n",
       "    <tr>\n",
       "      <th>3</th>\n",
       "      <td>Zephyr Squad - Test Management for Jira</td>\n",
       "      <td>SmartBear</td>\n",
       "      <td>21717</td>\n",
       "      <td>10.0</td>\n",
       "      <td>200</td>\n",
       "      <td>3000</td>\n",
       "      <td>773</td>\n",
       "      <td>Custom fields,Dashboard gadgets,Testing &amp; QA</td>\n",
       "    </tr>\n",
       "    <tr>\n",
       "      <th>4</th>\n",
       "      <td>JSU Automation Suite for Jira Workflows</td>\n",
       "      <td>Beecom Atlassian Apps (an Appfire company)</td>\n",
       "      <td>17952</td>\n",
       "      <td>0.0</td>\n",
       "      <td>10</td>\n",
       "      <td>115</td>\n",
       "      <td>222</td>\n",
       "      <td>Admin tools,Project management,Utilities,Workflow</td>\n",
       "    </tr>\n",
       "  </tbody>\n",
       "</table>\n",
       "</div>"
      ],
      "text/plain": [
       "                                      Name  \\\n",
       "0           Gliffy Diagrams for Confluence   \n",
       "1     Jira Misc Workflow Extensions (JMWE)   \n",
       "2            Xray Test Management for Jira   \n",
       "3  Zephyr Squad - Test Management for Jira   \n",
       "4  JSU Automation Suite for Jira Workflows   \n",
       "\n",
       "                                          Vendor  No of Installs  \\\n",
       "0                                         Gliffy           20124   \n",
       "1  Innovalog Atlassian Apps (an Appfire company)           17483   \n",
       "2                                         Xblend           16566   \n",
       "3                                      SmartBear           21717   \n",
       "4     Beecom Atlassian Apps (an Appfire company)           17952   \n",
       "\n",
       "   Price of Cloud Version  Price of Server Version  \\\n",
       "0                    10.0                       10   \n",
       "1                     5.0                       10   \n",
       "2                    10.0                       10   \n",
       "3                    10.0                      200   \n",
       "4                     0.0                       10   \n",
       "\n",
       "   Price of Data Center Version No of Ratings  \\\n",
       "0                          6250           744   \n",
       "1                           201           281   \n",
       "2                          1250           314   \n",
       "3                          3000           773   \n",
       "4                           115           222   \n",
       "\n",
       "                                          Categories  \n",
       "0  Blueprints,Charts & diagramming,Design tools,M...  \n",
       "1  Admin tools,IT & helpdesk,Project management,W...  \n",
       "2       Custom fields,Dashboard gadgets,Testing & QA  \n",
       "3       Custom fields,Dashboard gadgets,Testing & QA  \n",
       "4  Admin tools,Project management,Utilities,Workflow  "
      ]
     },
     "execution_count": 194,
     "metadata": {},
     "output_type": "execute_result"
    }
   ],
   "source": [
    "atData.head()"
   ]
  },
  {
   "cell_type": "code",
   "execution_count": 179,
   "metadata": {},
   "outputs": [
    {
     "name": "stdout",
     "output_type": "stream",
     "text": [
      "<class 'pandas.core.frame.DataFrame'>\n",
      "RangeIndex: 997 entries, 0 to 996\n",
      "Data columns (total 8 columns):\n",
      " #   Column                        Non-Null Count  Dtype  \n",
      "---  ------                        --------------  -----  \n",
      " 0   Name                          997 non-null    object \n",
      " 1   Vendor                        997 non-null    object \n",
      " 2   No of Installs                997 non-null    int64  \n",
      " 3   Price of Cloud Version        997 non-null    float64\n",
      " 4   Price of Server Version       997 non-null    int64  \n",
      " 5   Price of Data Center Version  997 non-null    int64  \n",
      " 6   No of Ratings                 997 non-null    object \n",
      " 7   Categories                    991 non-null    object \n",
      "dtypes: float64(1), int64(3), object(4)\n",
      "memory usage: 62.4+ KB\n"
     ]
    }
   ],
   "source": [
    "atData.info()"
   ]
  },
  {
   "cell_type": "code",
   "execution_count": 326,
   "metadata": {},
   "outputs": [],
   "source": [
    "atData['No of Installs'] = atData['No of Installs'].replace(',', '',regex=True)\n",
    "atData['No of Installs'] = atData['No of Installs'].replace('installs', '',regex=True)\n",
    "atData['Price of Cloud Version'] = atData['Price of Cloud Version'].replace(',', '',regex=True)\n",
    "atData['Price of Cloud Version'] = atData['Price of Cloud Version'].replace('USD', '',regex=True)\n",
    "atData['Price of Server Version'] = atData['Price of Server Version'].replace(',', '',regex=True)\n",
    "atData['Price of Server Version'] = atData['Price of Server Version'].replace('USD', '',regex=True)\n",
    "atData['Price of Data Center Version'] = atData['Price of Data Center Version'].replace(',', '',regex=True)\n",
    "atData['Price of Data Center Version'] = atData['Price of Data Center Version'].replace('USD', '',regex=True)\n",
    "atData['Price of Cloud Version'] = atData['Price of Cloud Version'].replace('Free', 0,regex=True)\n",
    "atData['Price of Server Version'] = atData['Price of Server Version'].replace('Free', 0,regex=True)\n",
    "atData['Price of Data Center Version'] = atData['Price of Data Center Version'].replace('Free', 0,regex=True)\n",
    "atData['No of Ratings'] = atData['No of Ratings'].replace('Not Rated', 0,regex=True)\n"
   ]
  },
  {
   "cell_type": "code",
   "execution_count": 343,
   "metadata": {},
   "outputs": [],
   "source": [
    "atData['No of Installs'] = pd.to_numeric(atData['No of Installs'])\n",
    "atData['Price of Cloud Version'] = pd.to_numeric(atData['Price of Cloud Version'])\n",
    "atData['Price of Server Version'] = pd.to_numeric(atData['Price of Server Version'])\n",
    "atData['Price of Data Center Version'] = pd.to_numeric(atData['Price of Data Center Version'])\n",
    "atData['No of Ratings'] = pd.to_numeric(atData['No of Ratings'])"
   ]
  },
  {
   "cell_type": "code",
   "execution_count": 181,
   "metadata": {},
   "outputs": [
    {
     "name": "stdout",
     "output_type": "stream",
     "text": [
      "Name                             object\n",
      "Vendor                           object\n",
      "No of Installs                    int64\n",
      "Price of Cloud Version          float64\n",
      "Price of Server Version           int64\n",
      "Price of Data Center Version      int64\n",
      "No of Ratings                    object\n",
      "Categories                       object\n",
      "dtype: object\n"
     ]
    }
   ],
   "source": [
    "print(atData.dtypes)"
   ]
  },
  {
   "cell_type": "code",
   "execution_count": 83,
   "metadata": {},
   "outputs": [],
   "source": [
    "atData.to_csv('Atlassian Marketplace Crawler modified.csv')"
   ]
  },
  {
   "cell_type": "code",
   "execution_count": 182,
   "metadata": {},
   "outputs": [
    {
     "data": {
      "text/html": [
       "<div>\n",
       "<style scoped>\n",
       "    .dataframe tbody tr th:only-of-type {\n",
       "        vertical-align: middle;\n",
       "    }\n",
       "\n",
       "    .dataframe tbody tr th {\n",
       "        vertical-align: top;\n",
       "    }\n",
       "\n",
       "    .dataframe thead th {\n",
       "        text-align: right;\n",
       "    }\n",
       "</style>\n",
       "<table border=\"1\" class=\"dataframe\">\n",
       "  <thead>\n",
       "    <tr style=\"text-align: right;\">\n",
       "      <th></th>\n",
       "      <th>Name</th>\n",
       "      <th>Vendor</th>\n",
       "      <th>No of Ratings</th>\n",
       "      <th>Categories</th>\n",
       "    </tr>\n",
       "  </thead>\n",
       "  <tbody>\n",
       "    <tr>\n",
       "      <th>count</th>\n",
       "      <td>997</td>\n",
       "      <td>997</td>\n",
       "      <td>997</td>\n",
       "      <td>991</td>\n",
       "    </tr>\n",
       "    <tr>\n",
       "      <th>unique</th>\n",
       "      <td>994</td>\n",
       "      <td>353</td>\n",
       "      <td>143</td>\n",
       "      <td>553</td>\n",
       "    </tr>\n",
       "    <tr>\n",
       "      <th>top</th>\n",
       "      <td>Figma for Jira</td>\n",
       "      <td>Bob Swift Atlassian Apps (an Appfire company)</td>\n",
       "      <td>5</td>\n",
       "      <td>Admin tools</td>\n",
       "    </tr>\n",
       "    <tr>\n",
       "      <th>freq</th>\n",
       "      <td>2</td>\n",
       "      <td>31</td>\n",
       "      <td>56</td>\n",
       "      <td>24</td>\n",
       "    </tr>\n",
       "  </tbody>\n",
       "</table>\n",
       "</div>"
      ],
      "text/plain": [
       "                  Name                                         Vendor  \\\n",
       "count              997                                            997   \n",
       "unique             994                                            353   \n",
       "top     Figma for Jira  Bob Swift Atlassian Apps (an Appfire company)   \n",
       "freq                 2                                             31   \n",
       "\n",
       "       No of Ratings   Categories  \n",
       "count            997          991  \n",
       "unique           143          553  \n",
       "top                5  Admin tools  \n",
       "freq              56           24  "
      ]
     },
     "execution_count": 182,
     "metadata": {},
     "output_type": "execute_result"
    }
   ],
   "source": [
    "atData.describe(include = object)"
   ]
  },
  {
   "cell_type": "code",
   "execution_count": 183,
   "metadata": {},
   "outputs": [],
   "source": [
    "TimeTdata = atData[atData['Categories'].str.contains('Time tracking', na = False)]\n",
    "TimeTdata=TimeTdata.reset_index(drop=True)\n"
   ]
  },
  {
   "cell_type": "code",
   "execution_count": 128,
   "metadata": {},
   "outputs": [],
   "source": [
    "TimeTdata.describe(include = object)\n",
    "TimeTdata.to_csv('No of installs in Time Tracking.csv')"
   ]
  },
  {
   "cell_type": "code",
   "execution_count": 184,
   "metadata": {},
   "outputs": [
    {
     "data": {
      "text/html": [
       "<div>\n",
       "<style scoped>\n",
       "    .dataframe tbody tr th:only-of-type {\n",
       "        vertical-align: middle;\n",
       "    }\n",
       "\n",
       "    .dataframe tbody tr th {\n",
       "        vertical-align: top;\n",
       "    }\n",
       "\n",
       "    .dataframe thead th {\n",
       "        text-align: right;\n",
       "    }\n",
       "</style>\n",
       "<table border=\"1\" class=\"dataframe\">\n",
       "  <thead>\n",
       "    <tr style=\"text-align: right;\">\n",
       "      <th></th>\n",
       "      <th>Name</th>\n",
       "      <th>Vendor</th>\n",
       "      <th>No of Installs</th>\n",
       "      <th>Price of Cloud Version</th>\n",
       "      <th>Price of Server Version</th>\n",
       "      <th>Price of Data Center Version</th>\n",
       "      <th>No of Ratings</th>\n",
       "      <th>Categories</th>\n",
       "    </tr>\n",
       "  </thead>\n",
       "  <tbody>\n",
       "    <tr>\n",
       "      <th>0</th>\n",
       "      <td>Tempo Timesheets - Time Tracking &amp; Reports</td>\n",
       "      <td>Tempo for JIRA</td>\n",
       "      <td>28116</td>\n",
       "      <td>10.00</td>\n",
       "      <td>100</td>\n",
       "      <td>1500</td>\n",
       "      <td>434</td>\n",
       "      <td>Dashboard gadgets,Integrations,Reports,Time tr...</td>\n",
       "    </tr>\n",
       "    <tr>\n",
       "      <th>1</th>\n",
       "      <td>Better PDF Exporter for Jira</td>\n",
       "      <td>Midori Global Consulting Kft.</td>\n",
       "      <td>3806</td>\n",
       "      <td>0.99</td>\n",
       "      <td>10</td>\n",
       "      <td>640</td>\n",
       "      <td>291</td>\n",
       "      <td>Charts &amp; diagramming,Documentation,Reports,Tim...</td>\n",
       "    </tr>\n",
       "    <tr>\n",
       "      <th>2</th>\n",
       "      <td>Timesheet tracking for Jira</td>\n",
       "      <td>TouchDown</td>\n",
       "      <td>14573</td>\n",
       "      <td>0.00</td>\n",
       "      <td>0</td>\n",
       "      <td>0</td>\n",
       "      <td>97</td>\n",
       "      <td>Charts &amp; diagramming,Project management,Report...</td>\n",
       "    </tr>\n",
       "    <tr>\n",
       "      <th>3</th>\n",
       "      <td>Timesheet Reports &amp; Gadgets</td>\n",
       "      <td>Prime Timesheet, s.r.o</td>\n",
       "      <td>11558</td>\n",
       "      <td>5.00</td>\n",
       "      <td>10</td>\n",
       "      <td>500</td>\n",
       "      <td>231</td>\n",
       "      <td>Dashboard gadgets,Reports,Time tracking</td>\n",
       "    </tr>\n",
       "    <tr>\n",
       "      <th>4</th>\n",
       "      <td>Planning Poker ®</td>\n",
       "      <td>Lizard Brain Atlassian Apps (an Appfire company)</td>\n",
       "      <td>2126</td>\n",
       "      <td>10.00</td>\n",
       "      <td>10</td>\n",
       "      <td>690</td>\n",
       "      <td>108</td>\n",
       "      <td>Continuous integration,Project management,Time...</td>\n",
       "    </tr>\n",
       "  </tbody>\n",
       "</table>\n",
       "</div>"
      ],
      "text/plain": [
       "                                         Name  \\\n",
       "0  Tempo Timesheets - Time Tracking & Reports   \n",
       "1                Better PDF Exporter for Jira   \n",
       "2                 Timesheet tracking for Jira   \n",
       "3                 Timesheet Reports & Gadgets   \n",
       "4                            Planning Poker ®   \n",
       "\n",
       "                                             Vendor  No of Installs  \\\n",
       "0                                    Tempo for JIRA           28116   \n",
       "1                     Midori Global Consulting Kft.            3806   \n",
       "2                                         TouchDown           14573   \n",
       "3                            Prime Timesheet, s.r.o           11558   \n",
       "4  Lizard Brain Atlassian Apps (an Appfire company)            2126   \n",
       "\n",
       "   Price of Cloud Version  Price of Server Version  \\\n",
       "0                   10.00                      100   \n",
       "1                    0.99                       10   \n",
       "2                    0.00                        0   \n",
       "3                    5.00                       10   \n",
       "4                   10.00                       10   \n",
       "\n",
       "   Price of Data Center Version No of Ratings  \\\n",
       "0                          1500           434   \n",
       "1                           640           291   \n",
       "2                             0            97   \n",
       "3                           500           231   \n",
       "4                           690           108   \n",
       "\n",
       "                                          Categories  \n",
       "0  Dashboard gadgets,Integrations,Reports,Time tr...  \n",
       "1  Charts & diagramming,Documentation,Reports,Tim...  \n",
       "2  Charts & diagramming,Project management,Report...  \n",
       "3            Dashboard gadgets,Reports,Time tracking  \n",
       "4  Continuous integration,Project management,Time...  "
      ]
     },
     "execution_count": 184,
     "metadata": {},
     "output_type": "execute_result"
    }
   ],
   "source": [
    "TimeTdata.head()"
   ]
  },
  {
   "cell_type": "markdown",
   "metadata": {},
   "source": [
    "## Graph"
   ]
  },
  {
   "cell_type": "code",
   "execution_count": 199,
   "metadata": {},
   "outputs": [
    {
     "data": {
      "image/png": "[encoded data removed]",
      "text/plain": [
       "<Figure size 432x288 with 1 Axes>"
      ]
     },
     "metadata": {
      "needs_background": "light"
     },
     "output_type": "display_data"
    }
   ],
   "source": [
    "TimeTdata[['Name', 'No of Installs']].plot(\n",
    "    #x='Name',\n",
    "    xlabel='# of App',\n",
    "    ylabel='Number of Installs',\n",
    "    title='number of installs in time tracking category'\n",
    ")\n",
    "\n",
    "plt.show()"
   ]
  },
  {
   "cell_type": "markdown",
   "metadata": {},
   "source": [
    "## Bar Chart"
   ]
  },
  {
   "cell_type": "code",
   "execution_count": 200,
   "metadata": {},
   "outputs": [
    {
     "data": {
      "image/png": "[encoded data removed]",
      "text/plain": [
       "<Figure size 432x288 with 1 Axes>"
      ]
     },
     "metadata": {
      "needs_background": "light"
     },
     "output_type": "display_data"
    }
   ],
   "source": [
    "TimeTdata[['Name', 'No of Installs']].plot.bar(\n",
    "    #x='Name',\n",
    "    xlabel='# of App',\n",
    "    ylabel='Number of Installs',\n",
    "    title='number of installs in time tracking category'\n",
    ")\n",
    "\n",
    "plt.show()"
   ]
  },
  {
   "cell_type": "code",
   "execution_count": 190,
   "metadata": {},
   "outputs": [
    {
     "name": "stdout",
     "output_type": "stream",
     "text": [
      "5\n"
     ]
    }
   ],
   "source": [
    "print(len(atData.columns))"
   ]
  },
  {
   "cell_type": "markdown",
   "metadata": {},
   "source": [
    "Using a filter method, filtering non important columns outm in this example, name, vendor and categories are redundant"
   ]
  },
  {
   "cell_type": "code",
   "execution_count": 196,
   "metadata": {},
   "outputs": [],
   "source": [
    "atData.drop('Name', inplace=True, axis=1)\n",
    "atData.drop('Vendor', inplace=True, axis=1)\n",
    "atData.drop('Categories', inplace=True, axis=1)\n",
    "\n"
   ]
  },
  {
   "cell_type": "code",
   "execution_count": 197,
   "metadata": {},
   "outputs": [
    {
     "data": {
      "text/html": [
       "<div>\n",
       "<style scoped>\n",
       "    .dataframe tbody tr th:only-of-type {\n",
       "        vertical-align: middle;\n",
       "    }\n",
       "\n",
       "    .dataframe tbody tr th {\n",
       "        vertical-align: top;\n",
       "    }\n",
       "\n",
       "    .dataframe thead th {\n",
       "        text-align: right;\n",
       "    }\n",
       "</style>\n",
       "<table border=\"1\" class=\"dataframe\">\n",
       "  <thead>\n",
       "    <tr style=\"text-align: right;\">\n",
       "      <th></th>\n",
       "      <th>No of Installs</th>\n",
       "      <th>Price of Cloud Version</th>\n",
       "      <th>Price of Server Version</th>\n",
       "      <th>Price of Data Center Version</th>\n",
       "      <th>No of Ratings</th>\n",
       "    </tr>\n",
       "  </thead>\n",
       "  <tbody>\n",
       "    <tr>\n",
       "      <th>0</th>\n",
       "      <td>20124</td>\n",
       "      <td>10.0</td>\n",
       "      <td>10</td>\n",
       "      <td>6250</td>\n",
       "      <td>744</td>\n",
       "    </tr>\n",
       "    <tr>\n",
       "      <th>1</th>\n",
       "      <td>17483</td>\n",
       "      <td>5.0</td>\n",
       "      <td>10</td>\n",
       "      <td>201</td>\n",
       "      <td>281</td>\n",
       "    </tr>\n",
       "    <tr>\n",
       "      <th>2</th>\n",
       "      <td>16566</td>\n",
       "      <td>10.0</td>\n",
       "      <td>10</td>\n",
       "      <td>1250</td>\n",
       "      <td>314</td>\n",
       "    </tr>\n",
       "    <tr>\n",
       "      <th>3</th>\n",
       "      <td>21717</td>\n",
       "      <td>10.0</td>\n",
       "      <td>200</td>\n",
       "      <td>3000</td>\n",
       "      <td>773</td>\n",
       "    </tr>\n",
       "    <tr>\n",
       "      <th>4</th>\n",
       "      <td>17952</td>\n",
       "      <td>0.0</td>\n",
       "      <td>10</td>\n",
       "      <td>115</td>\n",
       "      <td>222</td>\n",
       "    </tr>\n",
       "  </tbody>\n",
       "</table>\n",
       "</div>"
      ],
      "text/plain": [
       "   No of Installs  Price of Cloud Version  Price of Server Version  \\\n",
       "0           20124                    10.0                       10   \n",
       "1           17483                     5.0                       10   \n",
       "2           16566                    10.0                       10   \n",
       "3           21717                    10.0                      200   \n",
       "4           17952                     0.0                       10   \n",
       "\n",
       "   Price of Data Center Version No of Ratings  \n",
       "0                          6250           744  \n",
       "1                           201           281  \n",
       "2                          1250           314  \n",
       "3                          3000           773  \n",
       "4                           115           222  "
      ]
     },
     "execution_count": 197,
     "metadata": {},
     "output_type": "execute_result"
    }
   ],
   "source": [
    "atData.head()\n"
   ]
  },
  {
   "cell_type": "code",
   "execution_count": 227,
   "metadata": {},
   "outputs": [
    {
     "data": {
      "image/png": "[encoded data removed]",
      "text/plain": [
       "<Figure size 432x288 with 1 Axes>"
      ]
     },
     "metadata": {
      "needs_background": "light"
     },
     "output_type": "display_data"
    }
   ],
   "source": [
    "atData.plot(x='Price of Cloud Version', y='No of Installs', style='o')  \n",
    "plt.title('No of installs based on price of cloud')  \n",
    "plt.xlabel('Price of Cloud Version')  \n",
    "plt.ylabel('Number of Installs')  \n",
    "plt.show()"
   ]
  },
  {
   "cell_type": "code",
   "execution_count": 208,
   "metadata": {},
   "outputs": [
    {
     "name": "stderr",
     "output_type": "stream",
     "text": [
      "C:\\ProgramData\\Anaconda3\\lib\\site-packages\\seaborn\\distributions.py:2551: FutureWarning: `distplot` is a deprecated function and will be removed in a future version. Please adapt your code to use either `displot` (a figure-level function with similar flexibility) or `histplot` (an axes-level function for histograms).\n",
      "  warnings.warn(msg, FutureWarning)\n"
     ]
    },
    {
     "data": {
      "text/plain": [
       "<AxesSubplot:xlabel='No of Installs', ylabel='Density'>"
      ]
     },
     "execution_count": 208,
     "metadata": {},
     "output_type": "execute_result"
    },
    {
     "data": {
      "image/png": "[encoded data removed]",
      "text/plain": [
       "<Figure size 1080x720 with 1 Axes>"
      ]
     },
     "metadata": {
      "needs_background": "light"
     },
     "output_type": "display_data"
    }
   ],
   "source": [
    "plt.figure(figsize=(15,10))\n",
    "plt.tight_layout()\n",
    "seabornInstance.distplot(atData['No of Installs'])"
   ]
  },
  {
   "cell_type": "code",
   "execution_count": 378,
   "metadata": {},
   "outputs": [],
   "source": [
    "X = atData['Price of Cloud Version'].values.reshape(-1, 1)\n",
    "y = atData['No of Installs'].values.reshape(-1,1)\n"
   ]
  },
  {
   "cell_type": "code",
   "execution_count": 379,
   "metadata": {},
   "outputs": [],
   "source": [
    "X_train, X_test, y_train, y_test = train_test_split(X, y, test_size=0.2, random_state=0)"
   ]
  },
  {
   "cell_type": "code",
   "execution_count": 380,
   "metadata": {},
   "outputs": [
    {
     "data": {
      "text/plain": [
       "LinearRegression()"
      ]
     },
     "execution_count": 380,
     "metadata": {},
     "output_type": "execute_result"
    }
   ],
   "source": [
    "regressor = LinearRegression()\n",
    "regressor.fit(X_train, y_train)"
   ]
  },
  {
   "cell_type": "code",
   "execution_count": 381,
   "metadata": {},
   "outputs": [
    {
     "name": "stdout",
     "output_type": "stream",
     "text": [
      "[1490.92340743]\n",
      "[[39.13181343]]\n"
     ]
    }
   ],
   "source": [
    "print(regressor.intercept_)\n",
    "print(regressor.coef_)"
   ]
  },
  {
   "cell_type": "code",
   "execution_count": 382,
   "metadata": {},
   "outputs": [],
   "source": [
    "y_pred = regressor.predict(X_test)"
   ]
  },
  {
   "cell_type": "code",
   "execution_count": 383,
   "metadata": {},
   "outputs": [
    {
     "data": {
      "text/html": [
       "<div>\n",
       "<style scoped>\n",
       "    .dataframe tbody tr th:only-of-type {\n",
       "        vertical-align: middle;\n",
       "    }\n",
       "\n",
       "    .dataframe tbody tr th {\n",
       "        vertical-align: top;\n",
       "    }\n",
       "\n",
       "    .dataframe thead th {\n",
       "        text-align: right;\n",
       "    }\n",
       "</style>\n",
       "<table border=\"1\" class=\"dataframe\">\n",
       "  <thead>\n",
       "    <tr style=\"text-align: right;\">\n",
       "      <th></th>\n",
       "      <th>Actual</th>\n",
       "      <th>Predicted</th>\n",
       "    </tr>\n",
       "  </thead>\n",
       "  <tbody>\n",
       "    <tr>\n",
       "      <th>0</th>\n",
       "      <td>1165</td>\n",
       "      <td>1512.445905</td>\n",
       "    </tr>\n",
       "    <tr>\n",
       "      <th>1</th>\n",
       "      <td>320</td>\n",
       "      <td>1686.582475</td>\n",
       "    </tr>\n",
       "    <tr>\n",
       "      <th>2</th>\n",
       "      <td>7938</td>\n",
       "      <td>1494.836589</td>\n",
       "    </tr>\n",
       "    <tr>\n",
       "      <th>3</th>\n",
       "      <td>671</td>\n",
       "      <td>1490.923407</td>\n",
       "    </tr>\n",
       "    <tr>\n",
       "      <th>4</th>\n",
       "      <td>274</td>\n",
       "      <td>1882.241542</td>\n",
       "    </tr>\n",
       "    <tr>\n",
       "      <th>...</th>\n",
       "      <td>...</td>\n",
       "      <td>...</td>\n",
       "    </tr>\n",
       "    <tr>\n",
       "      <th>195</th>\n",
       "      <td>112</td>\n",
       "      <td>1490.923407</td>\n",
       "    </tr>\n",
       "    <tr>\n",
       "      <th>196</th>\n",
       "      <td>192</td>\n",
       "      <td>1490.923407</td>\n",
       "    </tr>\n",
       "    <tr>\n",
       "      <th>197</th>\n",
       "      <td>751</td>\n",
       "      <td>1549.621128</td>\n",
       "    </tr>\n",
       "    <tr>\n",
       "      <th>198</th>\n",
       "      <td>717</td>\n",
       "      <td>1490.923407</td>\n",
       "    </tr>\n",
       "    <tr>\n",
       "      <th>199</th>\n",
       "      <td>493</td>\n",
       "      <td>1490.923407</td>\n",
       "    </tr>\n",
       "  </tbody>\n",
       "</table>\n",
       "<p>200 rows × 2 columns</p>\n",
       "</div>"
      ],
      "text/plain": [
       "     Actual    Predicted\n",
       "0      1165  1512.445905\n",
       "1       320  1686.582475\n",
       "2      7938  1494.836589\n",
       "3       671  1490.923407\n",
       "4       274  1882.241542\n",
       "..      ...          ...\n",
       "195     112  1490.923407\n",
       "196     192  1490.923407\n",
       "197     751  1549.621128\n",
       "198     717  1490.923407\n",
       "199     493  1490.923407\n",
       "\n",
       "[200 rows x 2 columns]"
      ]
     },
     "execution_count": 383,
     "metadata": {},
     "output_type": "execute_result"
    }
   ],
   "source": [
    "comparedf = pd.DataFrame({'Actual': y_test.flatten(), 'Predicted': y_pred.flatten()})\n",
    "comparedf"
   ]
  },
  {
   "cell_type": "code",
   "execution_count": 384,
   "metadata": {},
   "outputs": [
    {
     "data": {
      "image/png": "[encoded data removed]",
      "text/plain": [
       "<Figure size 1152x720 with 1 Axes>"
      ]
     },
     "metadata": {
      "needs_background": "light"
     },
     "output_type": "display_data"
    }
   ],
   "source": [
    "comparedfa = comparedf.head(30)\n",
    "comparedfa.plot(kind='bar',figsize=(16,10))\n",
    "plt.grid(which='major', linestyle='-', linewidth='0.5', color='green')\n",
    "plt.grid(which='minor', linestyle=':', linewidth='0.5', color='black')\n",
    "plt.show()"
   ]
  },
  {
   "cell_type": "code",
   "execution_count": 385,
   "metadata": {},
   "outputs": [
    {
     "data": {
      "image/png": "[encoded data removed]",
      "text/plain": [
       "<Figure size 432x288 with 1 Axes>"
      ]
     },
     "metadata": {
      "needs_background": "light"
     },
     "output_type": "display_data"
    }
   ],
   "source": [
    "plt.scatter(X_test, y_test,  color='gray')\n",
    "plt.plot(X_test, y_pred, color='red', linewidth=2)\n",
    "plt.show()"
   ]
  },
  {
   "cell_type": "code",
   "execution_count": 386,
   "metadata": {},
   "outputs": [
    {
     "name": "stdout",
     "output_type": "stream",
     "text": [
      "Root Mean Squared Error: 5395.821380544915\n",
      "Mean Squared Error: 29114888.37074563\n",
      "Mean Absolute Error: 2005.1077193616538\n",
      "-0.004726917112295448\n"
     ]
    }
   ],
   "source": [
    "print('Root Mean Squared Error:', np.sqrt(metrics.mean_squared_error(y_test, y_pred)))\n",
    "print('Mean Squared Error:', metrics.mean_squared_error(y_test, y_pred))  \n",
    "print('Mean Absolute Error:', metrics.mean_absolute_error(y_test, y_pred))  \n",
    "print(metrics.r2_score(y_t, y_pred))\n",
    "\n"
   ]
  },
  {
   "cell_type": "code",
   "execution_count": 303,
   "metadata": {},
   "outputs": [],
   "source": [
    "X1 = atData['Price of Server Version'].values.reshape(-1, 1)\n",
    "\n",
    "y1 = atData['No of Installs'].values.reshape(-1, 1)\n"
   ]
  },
  {
   "cell_type": "code",
   "execution_count": 304,
   "metadata": {},
   "outputs": [],
   "source": [
    "X1_train, X1_test, y1_train, y1_test = train_test_split(X1, y1, test_size=0.2, random_state=0)\n"
   ]
  },
  {
   "cell_type": "code",
   "execution_count": 305,
   "metadata": {},
   "outputs": [
    {
     "data": {
      "text/plain": [
       "LinearRegression()"
      ]
     },
     "execution_count": 305,
     "metadata": {},
     "output_type": "execute_result"
    }
   ],
   "source": [
    "regressor1 = LinearRegression()  \n",
    "regressor1.fit(X1_train, y1_train)"
   ]
  },
  {
   "cell_type": "code",
   "execution_count": 306,
   "metadata": {},
   "outputs": [
    {
     "name": "stdout",
     "output_type": "stream",
     "text": [
      "[1640.60359145]\n",
      "[[-0.2197015]]\n"
     ]
    }
   ],
   "source": [
    "print(regressor1.intercept_)\n",
    "print(regressor1.coef_)"
   ]
  },
  {
   "cell_type": "code",
   "execution_count": 307,
   "metadata": {},
   "outputs": [],
   "source": [
    "y1_pred = regressor1.predict(X1_test)"
   ]
  },
  {
   "cell_type": "code",
   "execution_count": 308,
   "metadata": {},
   "outputs": [
    {
     "data": {
      "text/html": [
       "<div>\n",
       "<style scoped>\n",
       "    .dataframe tbody tr th:only-of-type {\n",
       "        vertical-align: middle;\n",
       "    }\n",
       "\n",
       "    .dataframe tbody tr th {\n",
       "        vertical-align: top;\n",
       "    }\n",
       "\n",
       "    .dataframe thead th {\n",
       "        text-align: right;\n",
       "    }\n",
       "</style>\n",
       "<table border=\"1\" class=\"dataframe\">\n",
       "  <thead>\n",
       "    <tr style=\"text-align: right;\">\n",
       "      <th></th>\n",
       "      <th>Actual</th>\n",
       "      <th>Predicted</th>\n",
       "    </tr>\n",
       "  </thead>\n",
       "  <tbody>\n",
       "    <tr>\n",
       "      <th>0</th>\n",
       "      <td>1165</td>\n",
       "      <td>1640.603591</td>\n",
       "    </tr>\n",
       "    <tr>\n",
       "      <th>1</th>\n",
       "      <td>320</td>\n",
       "      <td>1636.429263</td>\n",
       "    </tr>\n",
       "    <tr>\n",
       "      <th>2</th>\n",
       "      <td>7938</td>\n",
       "      <td>1638.406576</td>\n",
       "    </tr>\n",
       "    <tr>\n",
       "      <th>3</th>\n",
       "      <td>671</td>\n",
       "      <td>1618.633441</td>\n",
       "    </tr>\n",
       "    <tr>\n",
       "      <th>4</th>\n",
       "      <td>274</td>\n",
       "      <td>1638.406576</td>\n",
       "    </tr>\n",
       "    <tr>\n",
       "      <th>...</th>\n",
       "      <td>...</td>\n",
       "      <td>...</td>\n",
       "    </tr>\n",
       "    <tr>\n",
       "      <th>195</th>\n",
       "      <td>112</td>\n",
       "      <td>1596.663291</td>\n",
       "    </tr>\n",
       "    <tr>\n",
       "      <th>196</th>\n",
       "      <td>192</td>\n",
       "      <td>1638.406576</td>\n",
       "    </tr>\n",
       "    <tr>\n",
       "      <th>197</th>\n",
       "      <td>751</td>\n",
       "      <td>1638.406576</td>\n",
       "    </tr>\n",
       "    <tr>\n",
       "      <th>198</th>\n",
       "      <td>717</td>\n",
       "      <td>1532.949856</td>\n",
       "    </tr>\n",
       "    <tr>\n",
       "      <th>199</th>\n",
       "      <td>493</td>\n",
       "      <td>1596.663291</td>\n",
       "    </tr>\n",
       "  </tbody>\n",
       "</table>\n",
       "<p>200 rows × 2 columns</p>\n",
       "</div>"
      ],
      "text/plain": [
       "     Actual    Predicted\n",
       "0      1165  1640.603591\n",
       "1       320  1636.429263\n",
       "2      7938  1638.406576\n",
       "3       671  1618.633441\n",
       "4       274  1638.406576\n",
       "..      ...          ...\n",
       "195     112  1596.663291\n",
       "196     192  1638.406576\n",
       "197     751  1638.406576\n",
       "198     717  1532.949856\n",
       "199     493  1596.663291\n",
       "\n",
       "[200 rows x 2 columns]"
      ]
     },
     "execution_count": 308,
     "metadata": {},
     "output_type": "execute_result"
    }
   ],
   "source": [
    "comparedf1 = pd.DataFrame({'Actual': y1_test.flatten(), 'Predicted': y1_pred.flatten()})\n",
    "comparedf1"
   ]
  },
  {
   "cell_type": "code",
   "execution_count": 309,
   "metadata": {},
   "outputs": [
    {
     "data": {
      "image/png": "[encoded data removed]",
      "text/plain": [
       "<Figure size 1152x720 with 1 Axes>"
      ]
     },
     "metadata": {
      "needs_background": "light"
     },
     "output_type": "display_data"
    }
   ],
   "source": [
    "comparedfa1 = comparedf1.head(30)\n",
    "comparedfa1.plot(kind='bar',figsize=(16,10))\n",
    "plt.grid(which='major', linestyle='-', linewidth='0.5', color='green')\n",
    "plt.grid(which='minor', linestyle=':', linewidth='0.5', color='black')\n",
    "plt.show()"
   ]
  },
  {
   "cell_type": "code",
   "execution_count": 310,
   "metadata": {},
   "outputs": [
    {
     "data": {
      "image/png": "[encoded data removed]",
      "text/plain": [
       "<Figure size 432x288 with 1 Axes>"
      ]
     },
     "metadata": {
      "needs_background": "light"
     },
     "output_type": "display_data"
    }
   ],
   "source": [
    "plt.scatter(X1_test, y1_test,  color='gray')\n",
    "plt.plot(X1_test, y1_pred, color='red', linewidth=2)\n",
    "plt.show()"
   ]
  },
  {
   "cell_type": "code",
   "execution_count": 320,
   "metadata": {},
   "outputs": [
    {
     "name": "stdout",
     "output_type": "stream",
     "text": [
      "Root Mean Squared Error: 5373.3922977413395\n",
      "Mean Squared Error: 28873344.78542595\n",
      "Mean Absolute Error: 1980.632801063779\n"
     ]
    }
   ],
   "source": [
    "print('Root Mean Squared Error:', np.sqrt(metrics.mean_squared_error(y1_test, y1_pred)))\n",
    "print('Mean Squared Error:', metrics.mean_squared_error(y1_test, y1_pred))  \n",
    "print('Mean Absolute Error:', metrics.mean_absolute_error(y1_test, y1_pred))  \n"
   ]
  },
  {
   "cell_type": "code",
   "execution_count": 312,
   "metadata": {},
   "outputs": [],
   "source": [
    "X2 = atData['Price of Data Center Version'].values.reshape(-1, 1)\n",
    "\n",
    "y2 = atData['No of Installs'].values.reshape(-1, 1)\n"
   ]
  },
  {
   "cell_type": "code",
   "execution_count": 313,
   "metadata": {},
   "outputs": [],
   "source": [
    "X2_train, X2_test, y2_train, y2_test = train_test_split(X2, y2, test_size=0.2, random_state=0)\n"
   ]
  },
  {
   "cell_type": "code",
   "execution_count": 314,
   "metadata": {},
   "outputs": [
    {
     "data": {
      "text/plain": [
       "LinearRegression()"
      ]
     },
     "execution_count": 314,
     "metadata": {},
     "output_type": "execute_result"
    }
   ],
   "source": [
    "regressor2 = LinearRegression()  \n",
    "regressor2.fit(X2_train, y2_train)"
   ]
  },
  {
   "cell_type": "code",
   "execution_count": 315,
   "metadata": {},
   "outputs": [
    {
     "name": "stdout",
     "output_type": "stream",
     "text": [
      "[1415.42844405]\n",
      "[[0.46221993]]\n"
     ]
    }
   ],
   "source": [
    "print(regressor2.intercept_)\n",
    "print(regressor2.coef_)"
   ]
  },
  {
   "cell_type": "code",
   "execution_count": 316,
   "metadata": {},
   "outputs": [],
   "source": [
    "y2_pred = regressor2.predict(X2_test)"
   ]
  },
  {
   "cell_type": "code",
   "execution_count": 317,
   "metadata": {},
   "outputs": [
    {
     "data": {
      "text/html": [
       "<div>\n",
       "<style scoped>\n",
       "    .dataframe tbody tr th:only-of-type {\n",
       "        vertical-align: middle;\n",
       "    }\n",
       "\n",
       "    .dataframe tbody tr th {\n",
       "        vertical-align: top;\n",
       "    }\n",
       "\n",
       "    .dataframe thead th {\n",
       "        text-align: right;\n",
       "    }\n",
       "</style>\n",
       "<table border=\"1\" class=\"dataframe\">\n",
       "  <thead>\n",
       "    <tr style=\"text-align: right;\">\n",
       "      <th></th>\n",
       "      <th>Actual</th>\n",
       "      <th>Predicted</th>\n",
       "    </tr>\n",
       "  </thead>\n",
       "  <tbody>\n",
       "    <tr>\n",
       "      <th>0</th>\n",
       "      <td>1165</td>\n",
       "      <td>1415.428444</td>\n",
       "    </tr>\n",
       "    <tr>\n",
       "      <th>1</th>\n",
       "      <td>320</td>\n",
       "      <td>1415.428444</td>\n",
       "    </tr>\n",
       "    <tr>\n",
       "      <th>2</th>\n",
       "      <td>7938</td>\n",
       "      <td>1526.361227</td>\n",
       "    </tr>\n",
       "    <tr>\n",
       "      <th>3</th>\n",
       "      <td>671</td>\n",
       "      <td>2108.758337</td>\n",
       "    </tr>\n",
       "    <tr>\n",
       "      <th>4</th>\n",
       "      <td>274</td>\n",
       "      <td>1577.205419</td>\n",
       "    </tr>\n",
       "    <tr>\n",
       "      <th>...</th>\n",
       "      <td>...</td>\n",
       "      <td>...</td>\n",
       "    </tr>\n",
       "    <tr>\n",
       "      <th>195</th>\n",
       "      <td>112</td>\n",
       "      <td>1415.428444</td>\n",
       "    </tr>\n",
       "    <tr>\n",
       "      <th>196</th>\n",
       "      <td>192</td>\n",
       "      <td>1762.093391</td>\n",
       "    </tr>\n",
       "    <tr>\n",
       "      <th>197</th>\n",
       "      <td>751</td>\n",
       "      <td>1415.428444</td>\n",
       "    </tr>\n",
       "    <tr>\n",
       "      <th>198</th>\n",
       "      <td>717</td>\n",
       "      <td>1415.428444</td>\n",
       "    </tr>\n",
       "    <tr>\n",
       "      <th>199</th>\n",
       "      <td>493</td>\n",
       "      <td>1415.428444</td>\n",
       "    </tr>\n",
       "  </tbody>\n",
       "</table>\n",
       "<p>200 rows × 2 columns</p>\n",
       "</div>"
      ],
      "text/plain": [
       "     Actual    Predicted\n",
       "0      1165  1415.428444\n",
       "1       320  1415.428444\n",
       "2      7938  1526.361227\n",
       "3       671  2108.758337\n",
       "4       274  1577.205419\n",
       "..      ...          ...\n",
       "195     112  1415.428444\n",
       "196     192  1762.093391\n",
       "197     751  1415.428444\n",
       "198     717  1415.428444\n",
       "199     493  1415.428444\n",
       "\n",
       "[200 rows x 2 columns]"
      ]
     },
     "execution_count": 317,
     "metadata": {},
     "output_type": "execute_result"
    }
   ],
   "source": [
    "comparedf2 = pd.DataFrame({'Actual': y2_test.flatten(), 'Predicted': y2_pred.flatten()})\n",
    "comparedf2"
   ]
  },
  {
   "cell_type": "code",
   "execution_count": 318,
   "metadata": {},
   "outputs": [
    {
     "data": {
      "image/png": "[encoded data removed]",
      "text/plain": [
       "<Figure size 1152x720 with 1 Axes>"
      ]
     },
     "metadata": {
      "needs_background": "light"
     },
     "output_type": "display_data"
    }
   ],
   "source": [
    "comparedfa2 = comparedf2.head(30)\n",
    "comparedfa2.plot(kind='bar',figsize=(16,10))\n",
    "plt.grid(which='major', linestyle='-', linewidth='0.5', color='green')\n",
    "plt.grid(which='minor', linestyle=':', linewidth='0.5', color='black')\n",
    "plt.show()"
   ]
  },
  {
   "cell_type": "code",
   "execution_count": 341,
   "metadata": {},
   "outputs": [
    {
     "data": {
      "image/png": "[encoded data removed]",
      "text/plain": [
       "<Figure size 432x288 with 1 Axes>"
      ]
     },
     "metadata": {
      "needs_background": "light"
     },
     "output_type": "display_data"
    }
   ],
   "source": [
    "plt.scatter(X2_test, y2_test,  color='gray')\n",
    "plt.plot(X2_test, y2_pred, color='red', linewidth=2)\n",
    "plt.show()"
   ]
  },
  {
   "cell_type": "code",
   "execution_count": 321,
   "metadata": {},
   "outputs": [
    {
     "name": "stdout",
     "output_type": "stream",
     "text": [
      "Root Mean Squared Error: 5298.983807301972\n",
      "Mean Squared Error: 28079229.3900485\n",
      "Mean Absolute Error: 1976.3825535694514\n"
     ]
    }
   ],
   "source": [
    "print('Root Mean Squared Error:', np.sqrt(metrics.mean_squared_error(y2_test, y2_pred)))\n",
    "print('Mean Squared Error:', metrics.mean_squared_error(y2_test, y2_pred))  \n",
    "print('Mean Absolute Error:', metrics.mean_absolute_error(y2_test, y2_pred))  "
   ]
  },
  {
   "cell_type": "code",
   "execution_count": 344,
   "metadata": {},
   "outputs": [],
   "source": [
    "X3 = atData['No of Ratings'].values.reshape(-1, 1)\n",
    "\n",
    "y3 = atData['No of Installs'].values.reshape(-1, 1)"
   ]
  },
  {
   "cell_type": "code",
   "execution_count": 345,
   "metadata": {},
   "outputs": [],
   "source": [
    "X3_train, X3_test, y3_train, y3_test = train_test_split(X3, y3, test_size=0.2, random_state=0)\n"
   ]
  },
  {
   "cell_type": "code",
   "execution_count": 346,
   "metadata": {},
   "outputs": [
    {
     "data": {
      "text/plain": [
       "LinearRegression()"
      ]
     },
     "execution_count": 346,
     "metadata": {},
     "output_type": "execute_result"
    }
   ],
   "source": [
    "regressor3 = LinearRegression()  \n",
    "regressor3.fit(X3_train, y3_train)"
   ]
  },
  {
   "cell_type": "code",
   "execution_count": 347,
   "metadata": {},
   "outputs": [
    {
     "name": "stdout",
     "output_type": "stream",
     "text": [
      "[172.42439511]\n",
      "[[42.67048855]]\n"
     ]
    }
   ],
   "source": [
    "print(regressor3.intercept_)\n",
    "print(regressor3.coef_)"
   ]
  },
  {
   "cell_type": "code",
   "execution_count": 348,
   "metadata": {},
   "outputs": [],
   "source": [
    "y3_pred = regressor3.predict(X3_test)"
   ]
  },
  {
   "cell_type": "code",
   "execution_count": 349,
   "metadata": {},
   "outputs": [
    {
     "data": {
      "text/html": [
       "<div>\n",
       "<style scoped>\n",
       "    .dataframe tbody tr th:only-of-type {\n",
       "        vertical-align: middle;\n",
       "    }\n",
       "\n",
       "    .dataframe tbody tr th {\n",
       "        vertical-align: top;\n",
       "    }\n",
       "\n",
       "    .dataframe thead th {\n",
       "        text-align: right;\n",
       "    }\n",
       "</style>\n",
       "<table border=\"1\" class=\"dataframe\">\n",
       "  <thead>\n",
       "    <tr style=\"text-align: right;\">\n",
       "      <th></th>\n",
       "      <th>Actual</th>\n",
       "      <th>Predicted</th>\n",
       "    </tr>\n",
       "  </thead>\n",
       "  <tbody>\n",
       "    <tr>\n",
       "      <th>0</th>\n",
       "      <td>1165</td>\n",
       "      <td>1196.516120</td>\n",
       "    </tr>\n",
       "    <tr>\n",
       "      <th>1</th>\n",
       "      <td>320</td>\n",
       "      <td>812.481723</td>\n",
       "    </tr>\n",
       "    <tr>\n",
       "      <th>2</th>\n",
       "      <td>7938</td>\n",
       "      <td>13101.582425</td>\n",
       "    </tr>\n",
       "    <tr>\n",
       "      <th>3</th>\n",
       "      <td>671</td>\n",
       "      <td>897.822700</td>\n",
       "    </tr>\n",
       "    <tr>\n",
       "      <th>4</th>\n",
       "      <td>274</td>\n",
       "      <td>428.447326</td>\n",
       "    </tr>\n",
       "    <tr>\n",
       "      <th>...</th>\n",
       "      <td>...</td>\n",
       "      <td>...</td>\n",
       "    </tr>\n",
       "    <tr>\n",
       "      <th>195</th>\n",
       "      <td>112</td>\n",
       "      <td>556.458792</td>\n",
       "    </tr>\n",
       "    <tr>\n",
       "      <th>196</th>\n",
       "      <td>192</td>\n",
       "      <td>897.822700</td>\n",
       "    </tr>\n",
       "    <tr>\n",
       "      <th>197</th>\n",
       "      <td>751</td>\n",
       "      <td>1025.834166</td>\n",
       "    </tr>\n",
       "    <tr>\n",
       "      <th>198</th>\n",
       "      <td>717</td>\n",
       "      <td>3074.017616</td>\n",
       "    </tr>\n",
       "    <tr>\n",
       "      <th>199</th>\n",
       "      <td>493</td>\n",
       "      <td>684.470258</td>\n",
       "    </tr>\n",
       "  </tbody>\n",
       "</table>\n",
       "<p>200 rows × 2 columns</p>\n",
       "</div>"
      ],
      "text/plain": [
       "     Actual     Predicted\n",
       "0      1165   1196.516120\n",
       "1       320    812.481723\n",
       "2      7938  13101.582425\n",
       "3       671    897.822700\n",
       "4       274    428.447326\n",
       "..      ...           ...\n",
       "195     112    556.458792\n",
       "196     192    897.822700\n",
       "197     751   1025.834166\n",
       "198     717   3074.017616\n",
       "199     493    684.470258\n",
       "\n",
       "[200 rows x 2 columns]"
      ]
     },
     "execution_count": 349,
     "metadata": {},
     "output_type": "execute_result"
    }
   ],
   "source": [
    "comparedf3 = pd.DataFrame({'Actual': y3_test.flatten(), 'Predicted': y3_pred.flatten()})\n",
    "comparedf3"
   ]
  },
  {
   "cell_type": "code",
   "execution_count": 350,
   "metadata": {},
   "outputs": [
    {
     "data": {
      "image/png": "[encoded data removed]",
      "text/plain": [
       "<Figure size 1152x720 with 1 Axes>"
      ]
     },
     "metadata": {
      "needs_background": "light"
     },
     "output_type": "display_data"
    }
   ],
   "source": [
    "comparedfa3 = comparedf3.head(30)\n",
    "comparedfa3.plot(kind='bar',figsize=(16,10))\n",
    "plt.grid(which='major', linestyle='-', linewidth='0.5', color='green')\n",
    "plt.grid(which='minor', linestyle=':', linewidth='0.5', color='black')\n",
    "plt.show()"
   ]
  },
  {
   "cell_type": "code",
   "execution_count": 351,
   "metadata": {},
   "outputs": [
    {
     "data": {
      "image/png": "[encoded data removed]",
      "text/plain": [
       "<Figure size 432x288 with 1 Axes>"
      ]
     },
     "metadata": {
      "needs_background": "light"
     },
     "output_type": "display_data"
    }
   ],
   "source": [
    "plt.scatter(X3_test, y3_test,  color='gray')\n",
    "plt.plot(X3_test, y3_pred, color='red', linewidth=2)\n",
    "plt.show()"
   ]
  },
  {
   "cell_type": "code",
   "execution_count": 389,
   "metadata": {},
   "outputs": [
    {
     "name": "stdout",
     "output_type": "stream",
     "text": [
      "Root Mean Squared Error: 3540.3752798400296\n",
      "Mean Squared Error: 12534257.122102369\n",
      "Mean Absolute Error: 1049.000739553146\n",
      "0.5674547895833053\n"
     ]
    }
   ],
   "source": [
    "print('Root Mean Squared Error:', np.sqrt(metrics.mean_squared_error(y3_test, y3_pred)))\n",
    "print('Mean Squared Error:', metrics.mean_squared_error(y3_test, y3_pred))  \n",
    "print('Mean Absolute Error:', metrics.mean_absolute_error(y3_test, y3_pred))  \n",
    "print(metrics.r2_score(y_test, y3_pred))\n"
   ]
  }
 ],
 "metadata": {
  "kernelspec": {
   "display_name": "Python 3",
   "language": "python",
   "name": "python3"
  },
  "language_info": {
   "codemirror_mode": {
    "name": "ipython",
    "version": 3
   },
   "file_extension": ".py",
   "mimetype": "text/x-python",
   "name": "python",
   "nbconvert_exporter": "python",
   "pygments_lexer": "ipython3",
   "version": "3.8.5"
  }
 },
 "nbformat": 4,
 "nbformat_minor": 4
}
